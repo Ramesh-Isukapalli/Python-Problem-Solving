{
 "cells": [
  {
   "cell_type": "markdown",
   "id": "29f308d2",
   "metadata": {},
   "source": [
    "## Python_Task5_Advanced"
   ]
  },
  {
   "cell_type": "markdown",
   "id": "58fab079",
   "metadata": {},
   "source": [
    "#### 1. Given an integer array nums of unique elements, return all possible  subsets (the power set). The solution set must not contain duplicate subsets. Return the solution in any order."
   ]
  },
  {
   "cell_type": "code",
   "execution_count": 1,
   "id": "0e3aa5ee",
   "metadata": {},
   "outputs": [
    {
     "data": {
      "text/plain": [
       "[[], [1], [2], [1, 2], [3], [1, 3], [2, 3], [1, 2, 3]]"
      ]
     },
     "execution_count": 1,
     "metadata": {},
     "output_type": "execute_result"
    }
   ],
   "source": [
    "class Solution(object):\n",
    "    def subsets(self, nums):\n",
    "        n = len(nums)\n",
    "        result = []\n",
    "        for i in range(2**n):\n",
    "            subset = []\n",
    "            for j in range(n):\n",
    "                if i & (1 << j):\n",
    "                    subset.append(nums[j])\n",
    "            result.append(subset)\n",
    "        return result\n",
    "    \n",
    "solution = Solution()\n",
    "solution.subsets([1, 2, 3])"
   ]
  },
  {
   "cell_type": "markdown",
   "id": "7e193bed",
   "metadata": {},
   "source": [
    "#### 2. The Hamming distance between two integers is the number of positions at which the corresponding bits are different. Given two integers x and y, return the Hamming distance between them."
   ]
  },
  {
   "cell_type": "code",
   "execution_count": 2,
   "id": "d0924e52",
   "metadata": {},
   "outputs": [
    {
     "data": {
      "text/plain": [
       "2"
      ]
     },
     "execution_count": 2,
     "metadata": {},
     "output_type": "execute_result"
    }
   ],
   "source": [
    "class Solution(object):\n",
    "    def hammingDistance(self, x, y):\n",
    "        xor = x ^ y\n",
    "        count = 0\n",
    "        while xor:\n",
    "            count += xor & 1\n",
    "            xor >>= 1\n",
    "        return count\n",
    "\n",
    "solution = Solution()\n",
    "\n",
    "solution.hammingDistance(1,4)"
   ]
  },
  {
   "cell_type": "markdown",
   "id": "77cd17d1",
   "metadata": {},
   "source": [
    "#### 3. Given an integer array nums where every element appears three times except for one, which appears exactly once. Find the single element and return it. You must implement a solution with a linear runtime complexity and use only constant extra space."
   ]
  },
  {
   "cell_type": "code",
   "execution_count": 3,
   "id": "c9d761a5",
   "metadata": {},
   "outputs": [
    {
     "data": {
      "text/plain": [
       "3"
      ]
     },
     "execution_count": 3,
     "metadata": {},
     "output_type": "execute_result"
    }
   ],
   "source": [
    "class Solution(object):\n",
    "    def singleNumber(self, nums):\n",
    "        ones = twos = 0\n",
    "        for num in nums:\n",
    "            ones = (ones ^ num) & ~twos\n",
    "            twos = (twos ^ num) & ~ones\n",
    "        return ones\n",
    "    \n",
    "solution = Solution()\n",
    "\n",
    "solution.singleNumber([2,2,3,2])"
   ]
  }
 ],
 "metadata": {
  "kernelspec": {
   "display_name": "Python 3 (ipykernel)",
   "language": "python",
   "name": "python3"
  },
  "language_info": {
   "codemirror_mode": {
    "name": "ipython",
    "version": 3
   },
   "file_extension": ".py",
   "mimetype": "text/x-python",
   "name": "python",
   "nbconvert_exporter": "python",
   "pygments_lexer": "ipython3",
   "version": "3.9.7"
  }
 },
 "nbformat": 4,
 "nbformat_minor": 5
}
