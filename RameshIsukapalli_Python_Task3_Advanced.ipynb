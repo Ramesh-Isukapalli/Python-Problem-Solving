{
 "cells": [
  {
   "cell_type": "markdown",
   "id": "cbe9c3a9",
   "metadata": {},
   "source": [
    "### Python Problem solving - Advanced Task3"
   ]
  },
  {
   "cell_type": "markdown",
   "id": "c8f97526",
   "metadata": {},
   "source": [
    "#### 1. Given the array of integers nums, you will choose two different indices i and j of that array. Return the maximum value of (nums[i]-1)*(nums[j]-1)."
   ]
  },
  {
   "cell_type": "code",
   "execution_count": 2,
   "id": "8d2ab4dd",
   "metadata": {},
   "outputs": [
    {
     "name": "stdout",
     "output_type": "stream",
     "text": [
      "12\n",
      "16\n"
     ]
    }
   ],
   "source": [
    "class Solution(object):\n",
    "    def maxProduct(self, nums):\n",
    "        \"\"\"\n",
    "        :type nums: List[int]\n",
    "        :rtype: int\n",
    "        \"\"\"\n",
    "        max1 = max(nums)\n",
    "        nums.remove(max1)\n",
    "        max2 = max(nums)\n",
    "\n",
    "        return (max1 - 1) * (max2 - 1)\n",
    "    \n",
    "\n",
    "sol = Solution()\n",
    "nums_1 = [3,4,5,2]\n",
    "nums_2 = [1,5,4,5]\n",
    "\n",
    "print(sol.maxProduct(nums_1))\n",
    "print(sol.maxProduct(nums_2))"
   ]
  },
  {
   "cell_type": "markdown",
   "id": "0c566996",
   "metadata": {},
   "source": [
    "#### 2. There are n soldiers standing in a line. Each soldier is assigned a unique rating value. You have to form a team of 3 soldiers amongst them under the following rules:\n",
    "- Choose 3 soldiers with index (i, j, k) with rating (rating[i], rating[j], rating[k]).\n",
    "- A team is valid if: (rating[i] < rating[j] < rating[k]) or (rating[i] > rating[j] > rating[k]) where (0 <= i < j < k < n).\n",
    "- Return the number of teams you can form given the conditions. (soldiers can be part of multiple teams)."
   ]
  },
  {
   "cell_type": "code",
   "execution_count": 3,
   "id": "9d7f5c69",
   "metadata": {},
   "outputs": [
    {
     "name": "stdout",
     "output_type": "stream",
     "text": [
      "3\n"
     ]
    }
   ],
   "source": [
    "class Solution(object):\n",
    "    def numTeams(self, rating):\n",
    "        n = len(rating)\n",
    "        count = 0\n",
    "        for i in range(n):\n",
    "            for j in range(i+1, n):\n",
    "                for k in range(j+1, n):\n",
    "                    if (rating[i] < rating[j] < rating[k]) or (rating[i] > rating[j] > rating[k]):\n",
    "                        count += 1\n",
    "        print(count)\n",
    "        \n",
    "\n",
    "solution = Solution()\n",
    "\n",
    "solution.numTeams([2,5,3,4,1])"
   ]
  },
  {
   "cell_type": "markdown",
   "id": "2147b9bf",
   "metadata": {},
   "source": [
    "#### Given two integer arrays startTime and endTime and given an integer queryTime.\n",
    "- The ith student started doing their homework at the time startTime[i] and finished it at time endTime[i].\n",
    "- Return the number of students doing their homework at time queryTime. More formally, return the number of students where queryTime lays in the interval [startTime[i], endTime[i]] inclusive."
   ]
  },
  {
   "cell_type": "code",
   "execution_count": 4,
   "id": "0c067dc6",
   "metadata": {},
   "outputs": [
    {
     "name": "stdout",
     "output_type": "stream",
     "text": [
      "1\n"
     ]
    }
   ],
   "source": [
    "class Solution(object):\n",
    "    def busyStudent(self, startTime, endTime, queryTime):\n",
    "        count = 0\n",
    "        for i in range(len(startTime)):\n",
    "            if startTime[i] <= queryTime <= endTime[i]:\n",
    "                count += 1\n",
    "        print(count)\n",
    "        \n",
    "solution = Solution()\n",
    "solution.busyStudent([1,2,3],[3,2,7],4)"
   ]
  },
  {
   "cell_type": "markdown",
   "id": "5f410adf",
   "metadata": {},
   "source": [
    "####  4. Given an integer num, return the number of steps to reduce it to zero.\n",
    "- In one step, if the current number is even, you have to divide it by 2, otherwise, you have to subtract 1 from it."
   ]
  },
  {
   "cell_type": "code",
   "execution_count": 5,
   "id": "ce483347",
   "metadata": {},
   "outputs": [
    {
     "data": {
      "text/plain": [
       "6"
      ]
     },
     "execution_count": 5,
     "metadata": {},
     "output_type": "execute_result"
    }
   ],
   "source": [
    "class Solution(object):\n",
    "    def numberOfSteps(self, num):\n",
    "        steps = 0\n",
    "        while num != 0:\n",
    "            if num % 2 == 0:\n",
    "                num = num / 2\n",
    "            else:\n",
    "                num = num - 1\n",
    "            steps += 1\n",
    "        return steps\n",
    "    \n",
    "solution = Solution()\n",
    "\n",
    "solution.numberOfSteps(14)"
   ]
  },
  {
   "cell_type": "markdown",
   "id": "00191854",
   "metadata": {},
   "source": [
    "#### 5. Given an integer n, return an array ans of length n + 1 such that for each i (0 <= i <= n), ans[i] is the number of 1's in the binary representation of i."
   ]
  },
  {
   "cell_type": "code",
   "execution_count": 6,
   "id": "0d9b887b",
   "metadata": {},
   "outputs": [
    {
     "data": {
      "text/plain": [
       "[0, 1, 1]"
      ]
     },
     "execution_count": 6,
     "metadata": {},
     "output_type": "execute_result"
    }
   ],
   "source": [
    "class Solution(object):\n",
    "    def countBits(self, n):\n",
    "        binary = []\n",
    "        for i in range(n+1):\n",
    "            binary.append(bin(i).count('1'))\n",
    "        return binary\n",
    "    \n",
    "solution = Solution()\n",
    "solution.countBits(2)"
   ]
  },
  {
   "cell_type": "code",
   "execution_count": null,
   "id": "27de8312",
   "metadata": {},
   "outputs": [],
   "source": []
  }
 ],
 "metadata": {
  "kernelspec": {
   "display_name": "Python 3 (ipykernel)",
   "language": "python",
   "name": "python3"
  },
  "language_info": {
   "codemirror_mode": {
    "name": "ipython",
    "version": 3
   },
   "file_extension": ".py",
   "mimetype": "text/x-python",
   "name": "python",
   "nbconvert_exporter": "python",
   "pygments_lexer": "ipython3",
   "version": "3.9.7"
  }
 },
 "nbformat": 4,
 "nbformat_minor": 5
}
