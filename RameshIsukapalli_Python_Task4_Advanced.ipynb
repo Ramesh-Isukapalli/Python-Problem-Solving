{
 "cells": [
  {
   "cell_type": "markdown",
   "id": "dc4d17de",
   "metadata": {},
   "source": [
    "### Python_Task4_Advanced"
   ]
  },
  {
   "cell_type": "markdown",
   "id": "d9faf6bb",
   "metadata": {},
   "source": [
    "#### 1.. Given a non-empty array of integers nums, every element appears twice except for one. Find that single one.\n",
    "\n",
    "You must implement a solution with a linear runtime complexity and use only constant extra space."
   ]
  },
  {
   "cell_type": "code",
   "execution_count": 1,
   "id": "ef3e311b",
   "metadata": {},
   "outputs": [
    {
     "data": {
      "text/plain": [
       "4"
      ]
     },
     "execution_count": 1,
     "metadata": {},
     "output_type": "execute_result"
    }
   ],
   "source": [
    "class Solution(object):\n",
    "    def singleNumber(self, nums):\n",
    "        unique = 0\n",
    "        for num in nums:\n",
    "            unique ^= num\n",
    "        return unique\n",
    "    \n",
    "solution = Solution()\n",
    "solution.singleNumber([4, 1, 2, 1, 2])"
   ]
  },
  {
   "cell_type": "markdown",
   "id": "1c70a001",
   "metadata": {},
   "source": [
    "#### 2. You are given an integer array arr. Sort the integers in the array in ascending order by the number of 1's in their binary representation and in case of two or more integers have the same number of 1's you have to sort them in ascending order. Return the array after sorting it."
   ]
  },
  {
   "cell_type": "code",
   "execution_count": 2,
   "id": "ce0aacc4",
   "metadata": {},
   "outputs": [
    {
     "data": {
      "text/plain": [
       "[0, 1, 2, 4, 8, 3, 5, 6, 7]"
      ]
     },
     "execution_count": 2,
     "metadata": {},
     "output_type": "execute_result"
    }
   ],
   "source": [
    "class Solution(object):\n",
    "    def sortByBits(self, arr):\n",
    "        arr.sort()  \n",
    "        return sorted(arr, key=lambda x: bin(x).count('1'))\n",
    "    \n",
    "solution = Solution()\n",
    "solution.sortByBits([0, 1, 2, 3, 4, 5, 6, 7, 8])"
   ]
  },
  {
   "cell_type": "markdown",
   "id": "b460e8a1",
   "metadata": {},
   "source": [
    "#### 3. Given an integer array nums, in which exactly two elements appear only once and all the other elements appear exactly twice. Find the two elements that appear only once. You can return the answer in any order. You must write an algorithm that runs in linear runtime complexity and uses only constant extra space."
   ]
  },
  {
   "cell_type": "code",
   "execution_count": 3,
   "id": "f49f4b7a",
   "metadata": {},
   "outputs": [
    {
     "data": {
      "text/plain": [
       "[5, 3]"
      ]
     },
     "execution_count": 3,
     "metadata": {},
     "output_type": "execute_result"
    }
   ],
   "source": [
    "class Solution(object):\n",
    "    def singleNumber(self, nums):\n",
    "        xor = 0\n",
    "        for num in nums:\n",
    "            xor ^= num\n",
    "        mask = 1\n",
    "        while mask & xor == 0:\n",
    "            mask <<= 1\n",
    "        a = 0\n",
    "        b = 0\n",
    "        for num in nums:\n",
    "            if num & mask == 0:\n",
    "                a ^= num\n",
    "            else:\n",
    "                b ^= num\n",
    "        return [a, b]\n",
    "\n",
    "solution = Solution()\n",
    "\n",
    "solution.singleNumber([1, 2, 1, 3, 2, 5])"
   ]
  },
  {
   "cell_type": "markdown",
   "id": "ca353981",
   "metadata": {},
   "source": [
    "#### 4. Given an integer array nums of unique elements, return all possible  subsets (the power set). The solution set must not contain duplicate subsets. Return the solution in any order."
   ]
  },
  {
   "cell_type": "code",
   "execution_count": 4,
   "id": "49230d28",
   "metadata": {},
   "outputs": [
    {
     "data": {
      "text/plain": [
       "[[], [1], [2], [1, 2], [3], [1, 3], [2, 3], [1, 2, 3]]"
      ]
     },
     "execution_count": 4,
     "metadata": {},
     "output_type": "execute_result"
    }
   ],
   "source": [
    "class Solution(object):\n",
    "    def subsets(self, nums):\n",
    "        n = len(nums)\n",
    "        result = []\n",
    "        for i in range(2**n):\n",
    "            subset = []\n",
    "            for j in range(n):\n",
    "                if i & (1 << j):\n",
    "                    subset.append(nums[j])\n",
    "            result.append(subset)\n",
    "        return result\n",
    "    \n",
    "solution = Solution()\n",
    "\n",
    "solution.subsets([1, 2, 3])"
   ]
  }
 ],
 "metadata": {
  "kernelspec": {
   "display_name": "Python 3 (ipykernel)",
   "language": "python",
   "name": "python3"
  },
  "language_info": {
   "codemirror_mode": {
    "name": "ipython",
    "version": 3
   },
   "file_extension": ".py",
   "mimetype": "text/x-python",
   "name": "python",
   "nbconvert_exporter": "python",
   "pygments_lexer": "ipython3",
   "version": "3.9.7"
  }
 },
 "nbformat": 4,
 "nbformat_minor": 5
}
