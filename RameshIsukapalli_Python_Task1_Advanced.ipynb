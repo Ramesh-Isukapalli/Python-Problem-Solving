{
 "cells": [
  {
   "cell_type": "markdown",
   "id": "bdf0efe4",
   "metadata": {},
   "source": [
    "## Python_Task1_Advanced"
   ]
  },
  {
   "cell_type": "markdown",
   "id": "d50e2b86",
   "metadata": {},
   "source": [
    "#### 1. Given an array nums. We define a running sum of an array as runningSum[i] = sum(nums[0]…nums[i]). Return the running sum of nums."
   ]
  },
  {
   "cell_type": "code",
   "execution_count": 1,
   "id": "5b40eab5",
   "metadata": {},
   "outputs": [
    {
     "data": {
      "text/plain": [
       "[1, 3, 6, 10]"
      ]
     },
     "execution_count": 1,
     "metadata": {},
     "output_type": "execute_result"
    }
   ],
   "source": [
    "class Solution(object):\n",
    "    def runningSum(self, nums):\n",
    "        out = [0] * len(nums)\n",
    "        out[0] = nums[0]\n",
    "        for i in range(1, len(nums)):\n",
    "            out[i] = out[i-1] + nums[i]\n",
    "        return out\n",
    "\n",
    "nums = [1,2,3,4]\n",
    "solution = Solution()\n",
    "solution.runningSum(nums)"
   ]
  },
  {
   "cell_type": "markdown",
   "id": "1809765e",
   "metadata": {},
   "source": [
    "#### 2.Given the array nums consisting of 2n elements in the form [x1,x2,...,xn,y1,y2,...,yn]. Return the array in the form [x1,y1,x2,y2,...,xn,yn]."
   ]
  },
  {
   "cell_type": "code",
   "execution_count": 6,
   "id": "7f323338",
   "metadata": {},
   "outputs": [
    {
     "data": {
      "text/plain": [
       "[2, 3, 5, 4, 1, 7]"
      ]
     },
     "execution_count": 6,
     "metadata": {},
     "output_type": "execute_result"
    }
   ],
   "source": [
    "class Solution(object):\n",
    "    def shuffle(self, nums, n):\n",
    "        out=[]\n",
    "        for i in range(n):\n",
    "            out += [nums[i]] + [nums[i+n]]\n",
    "\n",
    "        return out\n",
    "    \n",
    "solution = Solution()\n",
    "solution.shuffle([2,5,1,3,4,7], 3)"
   ]
  },
  {
   "cell_type": "markdown",
   "id": "2166f9d9",
   "metadata": {},
   "source": [
    "#### 3. There are n kids with candies. You are given an integer array candies, where each candies[i] represents the number of candies the ith kid has, and an integer extraCandies, denoting the number of extra candies that you have. Return a boolean array result of length n, where result[i] is true if, after giving the ith kid all the extraCandies, they will have the greatest number of candies among all the kids, or false otherwise. Note that multiple kids can have the greatest number of candies."
   ]
  },
  {
   "cell_type": "code",
   "execution_count": 7,
   "id": "10defde0",
   "metadata": {},
   "outputs": [
    {
     "data": {
      "text/plain": [
       "[True, True, True, False, True]"
      ]
     },
     "execution_count": 7,
     "metadata": {},
     "output_type": "execute_result"
    }
   ],
   "source": [
    "class Solution(object):\n",
    "    def kidsWithCandies(self, candies, extraCandies):\n",
    "        max_candies = max(candies)\n",
    "        return [True if i + extraCandies >= max_candies else False for i in candies]\n",
    "\n",
    "solution = Solution()\n",
    "solution.kidsWithCandies([2,3,5,1,3], 3)"
   ]
  }
 ],
 "metadata": {
  "kernelspec": {
   "display_name": "Python 3 (ipykernel)",
   "language": "python",
   "name": "python3"
  },
  "language_info": {
   "codemirror_mode": {
    "name": "ipython",
    "version": 3
   },
   "file_extension": ".py",
   "mimetype": "text/x-python",
   "name": "python",
   "nbconvert_exporter": "python",
   "pygments_lexer": "ipython3",
   "version": "3.9.7"
  }
 },
 "nbformat": 4,
 "nbformat_minor": 5
}
