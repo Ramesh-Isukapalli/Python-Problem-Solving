{
 "cells": [
  {
   "cell_type": "markdown",
   "id": "014644ac",
   "metadata": {},
   "source": [
    "## Python - Task2 - Advanced"
   ]
  },
  {
   "cell_type": "markdown",
   "id": "3755968b",
   "metadata": {},
   "source": [
    "#### 1. Given a valid (IPv4) IP address, return a defanged version of that IP address. A defanged IP address replaces every period \".\" with \"[.]\"."
   ]
  },
  {
   "cell_type": "code",
   "execution_count": 9,
   "id": "89ddc079",
   "metadata": {},
   "outputs": [
    {
     "name": "stdout",
     "output_type": "stream",
     "text": [
      "1[.]1[.]1[.]1 \n",
      "\n",
      "255[.]100[.]50[.]0\n"
     ]
    }
   ],
   "source": [
    "def defang_IP_addr(address):\n",
    "    return address.replace(\".\", \"[.]\")\n",
    "\n",
    "address_1 = \"1.1.1.1\"\n",
    "\n",
    "address_2 = \"255.100.50.0\"\n",
    "\n",
    "\n",
    "print(defang_IP_addr(address_1),\"\\n\")\n",
    "print(defang_IP_addr(address_2))"
   ]
  },
  {
   "cell_type": "markdown",
   "id": "7c27e47a",
   "metadata": {},
   "source": [
    "#### 2. Given an array nums of integers, return how many of them contain an even number of digits."
   ]
  },
  {
   "cell_type": "code",
   "execution_count": 12,
   "id": "c68e88b3",
   "metadata": {},
   "outputs": [
    {
     "name": "stdout",
     "output_type": "stream",
     "text": [
      "2 \n",
      "\n",
      "1\n"
     ]
    }
   ],
   "source": [
    "def find_numbers( nums):\n",
    "    count=0\n",
    "    for num in nums:\n",
    "    if len(str(num))%2==0:\n",
    "        count+=1\n",
    "    return count\n",
    "\n",
    "num_list_1 = [12,345,2,6,7896]\n",
    "\n",
    "num_list_2 = [555,901,482,1771]\n",
    "\n",
    "\n",
    "print(find_numbers(num_list_1),\"\\n\")\n",
    "\n",
    "print(find_numbers(num_list_2))"
   ]
  },
  {
   "cell_type": "markdown",
   "id": "049ce7e1",
   "metadata": {},
   "source": [
    "#### 3. Given an array of integers nums, return the number of good pairs. A pair (i, j) is called good if nums[i] == nums[j] and i < j."
   ]
  },
  {
   "cell_type": "code",
   "execution_count": 15,
   "id": "8201e776",
   "metadata": {},
   "outputs": [
    {
     "name": "stdout",
     "output_type": "stream",
     "text": [
      "4\n",
      "6\n"
     ]
    }
   ],
   "source": [
    "def num_identical_pairs(nums):\n",
    "    count=0\n",
    "    for i in range(len(nums)):\n",
    "        for j in range(i+1, len(nums)):\n",
    "            if nums[i]==nums[j]:\n",
    "                count+=1\n",
    "    return count\n",
    "\n",
    "\n",
    "nums_lst1 = [1,2,3,1,1,3]\n",
    "nums_lst2 = [1,1,1,1]\n",
    "\n",
    "print(num_identical_pairs(nums_lst1))\n",
    "\n",
    "print(num_identical_pairs(nums_lst2))"
   ]
  },
  {
   "cell_type": "markdown",
   "id": "120376cc",
   "metadata": {},
   "source": [
    "#### 4. Given the array nums, for each nums[i] find out how many numbers in the array are smaller than it. That is, for each nums[i] you have to count the number of valid j's such that j != i and nums[j] < nums[i]."
   ]
  },
  {
   "cell_type": "code",
   "execution_count": 16,
   "id": "8ab65da0",
   "metadata": {},
   "outputs": [
    {
     "name": "stdout",
     "output_type": "stream",
     "text": [
      "[4, 0, 1, 1, 3]\n",
      "[2, 1, 0, 3]\n"
     ]
    }
   ],
   "source": [
    "def smaller_numbers(nums):\n",
    "    result = []\n",
    "    for i, num_1 in enumerate(nums):\n",
    "        count = 0\n",
    "        for j, num_2 in enumerate(nums):\n",
    "            if i != j and num_2 < num_1:\n",
    "                count += 1\n",
    "        result.append(count)\n",
    "    return result\n",
    "\n",
    "nums_1 = [8,1,2,2,3]\n",
    "nums_2 = [6,5,4,8]\n",
    "\n",
    "print(smaller_numbers(nums_1))\n",
    "\n",
    "print(smaller_numbers(nums_2))"
   ]
  },
  {
   "cell_type": "markdown",
   "id": "c3dcbf33",
   "metadata": {},
   "source": [
    "#### 5. Given an integer number n, return the difference between the product of its digits and the sum of its digits."
   ]
  },
  {
   "cell_type": "code",
   "execution_count": 1,
   "id": "0157ce03",
   "metadata": {},
   "outputs": [
    {
     "name": "stdout",
     "output_type": "stream",
     "text": [
      "15\n"
     ]
    }
   ],
   "source": [
    "def difference(n):\n",
    "    product=1\n",
    "    summ=0\n",
    "    while(n!=0):\n",
    "        rem = n%10\n",
    "        product*=rem\n",
    "        summ+=rem\n",
    "        n=n//10\n",
    "    return (product-summ)\n",
    "\n",
    "n = 234\n",
    "\n",
    "print(difference(n))\n"
   ]
  },
  {
   "cell_type": "markdown",
   "id": "55bd3ef7",
   "metadata": {},
   "source": [
    "#### 6. You are given an integer n and an integer start. Define an array nums where nums[i] = start + 2 * i (0-indexed) and n == nums.length. Return the bitwise XOR of all elements of nums."
   ]
  },
  {
   "cell_type": "code",
   "execution_count": 2,
   "id": "dd68fe49",
   "metadata": {},
   "outputs": [
    {
     "name": "stdout",
     "output_type": "stream",
     "text": [
      "8\n"
     ]
    }
   ],
   "source": [
    "def xor_nums(n, start):\n",
    "    nums = [start+2*i for i in range(n)]\n",
    "    result = nums[0]\n",
    "    for i in range(1, n):\n",
    "        result ^= nums[i]\n",
    "    return result\n",
    "    \n",
    "\n",
    "print(xor_nums(4, 3))\n"
   ]
  },
  {
   "cell_type": "code",
   "execution_count": null,
   "id": "71bcab23",
   "metadata": {},
   "outputs": [],
   "source": []
  }
 ],
 "metadata": {
  "kernelspec": {
   "display_name": "Python 3 (ipykernel)",
   "language": "python",
   "name": "python3"
  },
  "language_info": {
   "codemirror_mode": {
    "name": "ipython",
    "version": 3
   },
   "file_extension": ".py",
   "mimetype": "text/x-python",
   "name": "python",
   "nbconvert_exporter": "python",
   "pygments_lexer": "ipython3",
   "version": "3.9.7"
  }
 },
 "nbformat": 4,
 "nbformat_minor": 5
}
